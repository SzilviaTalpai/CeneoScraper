{
 "cells": [
  {
   "cell_type": "markdown",
   "metadata": {},
   "source": [
    "# Ceneo Scraper\n"
   ]
  },
  {
   "cell_type": "markdown",
   "metadata": {},
   "source": [
    "# Imports"
   ]
  },
  {
   "cell_type": "code",
   "execution_count": 1,
   "metadata": {},
   "outputs": [],
   "source": [
    "import requests"
   ]
  },
  {
   "cell_type": "markdown",
   "metadata": {},
   "source": [
    "Send request to Ceneo.pl service"
   ]
  },
  {
   "cell_type": "code",
   "execution_count": 4,
   "metadata": {},
   "outputs": [
    {
     "data": {
      "text/plain": [
       "200"
      ]
     },
     "execution_count": 4,
     "metadata": {},
     "output_type": "execute_result"
    }
   ],
   "source": [
    "product_id = \"104305410\"\n",
    "url = f\"https://www.ceneo.pl/{product_id}#tab=reviews_scroll\"\n",
    "response = requests.get(url)\n",
    "response.status_code\n",
    "\n"
   ]
  },
  {
   "cell_type": "markdown",
   "metadata": {},
   "source": [
    "## Convert plain text HTML code into DOM structure"
   ]
  },
  {
   "cell_type": "code",
   "execution_count": 10,
   "metadata": {},
   "outputs": [
    {
     "name": "stdout",
     "output_type": "stream",
     "text": [
      "<class 'bs4.BeautifulSoup'>\n",
      "<class 'bs4.element.ResultSet'>\n",
      "<class 'bs4.element.Tag'>\n",
      "<div class=\"user-post user-post__card js_product-review\" data-entry-id=\"10920918\">\n",
      "<header class=\"user-post__header\">\n",
      "<div class=\"js_lazy user-post__avatar user-rank__avatar\" data-bg=\"/Content/img/account/avatar/1.svg\"></div>\n",
      "</header>\n",
      "<div class=\"user-post__body\">\n",
      "<div class=\"user-post__content\">\n",
      "<span class=\"user-post__author-name\">\n",
      "Użytkownik Ceneo</span>\n",
      "<span class=\"user-post__author-recomendation\">\n",
      "<em class=\"recommended\">Polecam</em>\n",
      "</span>\n",
      "<span class=\"user-post__score\">\n",
      "<span class=\"screen-reader-text\">Ocena:</span>\n",
      "<span class=\"score-container score-container--s js_score-container\">\n",
      "<span class=\"score-marker score-marker--s\" style=\"width: 90.00%;\"></span>\n",
      "</span>\n",
      "<span class=\"user-post__score-count\">4,5/5</span>\n",
      "<span class=\"user-post__published\">\n",
      "        Wystawiono\n",
      "        <time datetime=\"2019-08-15 10:48:12\">5 lat temu</time>\n",
      "</span>\n",
      "</span>\n",
      "<div class=\"user-post__text\">Odpowienik robota znanej marki TM, tyle że odpowiednio tańszy. Jak dla mnie rewelacyjny. Kroi, miesza, gotuje, wyrabia ciasto, gotuje na parze. Jednym słowem rewelacja! Idealny nawet dla osob, które nie umieją gotować. Dzięki wbudowanym przepisom krok po kroku prowadzi przez kolejne etapy gotowania. Łatwy w czyszczeniu. Polecam.</div>\n",
      "<div class=\"review-feature\">\n",
      "<div class=\"review-feature__col\">\n",
      "<div class=\"review-feature__title review-feature__title--positives\">Zalety</div>\n",
      "<div class=\"review-feature__item\">garnek</div>\n",
      "<div class=\"review-feature__item\">głośność pracy</div>\n",
      "<div class=\"review-feature__item\">mikser</div>\n",
      "<div class=\"review-feature__item\">parownik</div>\n",
      "<div class=\"review-feature__item\">przepisy</div>\n",
      "<div class=\"review-feature__item\">trwałość</div>\n",
      "<div class=\"review-feature__item\">wielofunkcyjność</div>\n",
      "<div class=\"review-feature__item\">wydajność</div>\n",
      "</div>\n",
      "</div>\n",
      "<div class=\"user-post__bottom\">\n",
      "</div>\n",
      "</div>\n",
      "<div class=\"user-post__info\">\n",
      "<div class=\"d-flex align-items-center justify-content-end\">\n",
      "<div class=\"js_product-review-usefulness vote\">\n",
      "<button class=\"vote-yes js_product-review-vote js_vote-yes\" data-new-icon=\"vote-up\" data-product-id=\"104305410\" data-review-id=\"10920918\" data-total-vote=\"38\" data-url=\"SetOpinionVote\" data-vote=\"1\" data-voted=\"false\"><span id=\"votes-yes-10920918\">38</span></button>\n",
      "<button class=\"vote-no js_product-review-vote js_vote-no\" data-new-icon=\"vote-down\" data-product-id=\"104305410\" data-review-id=\"10920918\" data-total-vote=\"9\" data-url=\"SetOpinionVote\" data-vote=\"0\" data-voted=\"false\"><span id=\"votes-no-10920918\">9</span></button>\n",
      "</div>\n",
      "<div class=\"dropdown-wrapper\">\n",
      "<span class=\"dots-icon-vert\" data-toggle=\"dropdown\"></span>\n",
      "<ul class=\"dropdown-menu force-left\">\n",
      "<li class=\"dropdown-menu__item\" data-product-id=\"104305410\" data-review-id=\"10920918\">\n",
      "<div class=\"js_report-abuse report-abuse cursor-pointer\" data-report-type=\"1\" role=\"button\">\n",
      "<span>\n",
      "Zgłoś    </span>\n",
      "</div>\n",
      "</li>\n",
      "</ul>\n",
      "</div>\n",
      "</div>\n",
      "</div>\n",
      "<div class=\"js_product-review-comments js_product-review-hook js_product-review-comments-list\" id=\"product-review-comments-10920918\">\n",
      "<a class=\"user-post js_product-review-comment-toggle\" data-comments-count=\"1\" data-product-review-id=\"104305410\" data-review-id=\"10920918\" href=\"#product-review-comment-10920918\" role=\"button\">\n",
      "</a>\n",
      "<div class=\"js_product-review-form-hook\" id=\"product-review-comment-10920918\"></div>\n",
      "<div class=\"user-post js_comment-from-user\">\n",
      "<div class=\"user-post__header\">\n",
      "<div class=\"js_lazy user-post__avatar user-rank__avatar\" data-bg=\"/Content/img/account/avatar/1.svg\">\n",
      "</div>\n",
      "</div>\n",
      "<div class=\"user-post__body js_product-review-hook\" data-entry-id=\"395744\">\n",
      "<div class=\"user-post__content\">\n",
      "<span class=\"user-post__author-name\">\n",
      "                                ja\n",
      "                            </span>\n",
      "<span class=\"user-post__score\">\n",
      "<span class=\"user-post__published\">Wystawiono <time datetime=\"2019-12-17 17:08:27\">5 lat temu</time></span>\n",
      "</span>\n",
      "<div class=\"user-post__text\">\n",
      "                                zaletą może być cichość głośność to raczej wada\n",
      "                            </div>\n",
      "<div class=\"user-post__bottom\">\n",
      "<a class=\"link link--accent user-post__reply product-review-comment-reply-toggle js_open-login-popup-button\" data-comment-id=\"395744\" data-name=\"ja\" data-product-review-id=\"104305410\" data-review-id=\"10920918\" href=\"#product-review-comment-reply-395744\" rel=\"nofollow\">Odpowiedz</a>\n",
      "</div>\n",
      "</div>\n",
      "<div class=\"user-post__info\">\n",
      "<div class=\"dropdown-wrapper\">\n",
      "<span class=\"dots-icon-vert\" data-toggle=\"dropdown\"></span>\n",
      "<ul class=\"dropdown-menu force-left\">\n",
      "<li class=\"dropdown-menu__item\" data-comment-id=\"395744\" data-product-id=\"104305410\">\n",
      "<div class=\"js_report-abuse report-abuse cursor-pointer\" data-report-type=\"2\" role=\"button\">\n",
      "<span>\n",
      "Zgłoś    </span>\n",
      "</div>\n",
      "</li>\n",
      "</ul>\n",
      "</div>\n",
      "</div>\n",
      "<div class=\"js_product-review-form-hook\" id=\"product-review-comment-reply-395744\"></div>\n",
      "<div class=\"user-post\">\n",
      "<div class=\"user-post__header\">\n",
      "<div class=\"js_lazy user-post__avatar user-rank__avatar\" data-bg=\"/Content/img/account/avatar/1.svg\">\n",
      "</div>\n",
      "</div>\n",
      "<div class=\"user-post__body\">\n",
      "<div class=\"user-post__content\">\n",
      "<span class=\"user-post__author-name\">\n",
      "                                                od siebie \n",
      "                                            </span>\n",
      "<span class=\"user-post__text\">\n",
      "<span class=\"user-post__published\">Wystawiono <time datetime=\"2021-10-10 23:43:14\">3 lata temu</time></span>\n",
      "</span>\n",
      "<div class=\"user-post__text\">\n",
      "<span class=\"user-post__mention\"> ja </span> normalnie 10 na 10 w temacie                                            </div>\n",
      "<div class=\"user-post__bottom\">\n",
      "</div>\n",
      "</div>\n",
      "<div class=\"user-post__info\">\n",
      "<div class=\"dropdown-wrapper\">\n",
      "<span class=\"dots-icon-vert\" data-toggle=\"dropdown\"></span>\n",
      "<ul class=\"dropdown-menu force-left\">\n",
      "<li class=\"dropdown-menu__item\" data-comment-id=\"455365\" data-product-id=\"104305410\">\n",
      "<div class=\"js_report-abuse report-abuse cursor-pointer\" data-report-type=\"2\" role=\"button\">\n",
      "<span>\n",
      "Zgłoś    </span>\n",
      "</div>\n",
      "</li>\n",
      "</ul>\n",
      "</div>\n",
      "</div>\n",
      "</div>\n",
      "</div>\n",
      "</div>\n",
      "</div>\n",
      "</div>\n",
      "</div>\n",
      "</div>\n"
     ]
    }
   ],
   "source": [
    "page_dom = BeautifulSoup(response.text, \"html.parser\")\n",
    "print(type(page_dom))\n",
    "opinions = page_dom.select(\"div.js_product-review\")\n",
    "print(type(opinions))\n",
    "opinion = page_dom.select_one(\"div.js_product-review\")\n",
    "print(type(opinion))\n",
    "print(opinion)"
   ]
  },
  {
   "cell_type": "markdown",
   "metadata": {},
   "source": [
    "## Extraction of components for single opinion\n",
    "\n",
    "|Component|Selector|Variable|\n",
    "|---------|--------|--------|\n",
    "|opinion ID|[\"data-entry-id\"]|opinion_id|\n",
    "|opinions's author|span.user-post_author-name|author|\n",
    "|author's recommendation|span.user-post_author-recomendation > em|recommendation|\n",
    "|score expressed in number of stars|span.user-post_count|score|\n",
    "|opinion’s content|div.user-post_text|content|\n",
    "|list of product advantages|div.review-feature_title--positives ~ div.review-feature_item|pros|\n",
    "|list of product disadvantages|div.review-feature_title--negatives ~ div.review-feature_item|cons|\n",
    "|how many users think that opinion was helpful|span[id^\"votes-yes\"]|helpful|\n",
    "|how many users think that opinion was unhelpful|span[id^\"votes-no\"]|unhelpful|\n",
    "|publishing date|span.user.post-published > time:nth-child(1)[\"datetime\"]|publish_date|\n",
    "|purchase date|span.user-post_published > time:nth-child(2)[\"datetime\"]|purchase_date|"
   ]
  },
  {
   "cell_type": "code",
   "execution_count": null,
   "metadata": {},
   "outputs": [],
   "source": [
    "opinion_id = opinion[\"data-entry-id\"]\n",
    "author = opinion.select_one(\"span.user-post_author-name\")\n"
   ]
  }
 ],
 "metadata": {
  "kernelspec": {
   "display_name": ".venv",
   "language": "python",
   "name": "python3"
  },
  "language_info": {
   "codemirror_mode": {
    "name": "ipython",
    "version": 3
   },
   "file_extension": ".py",
   "mimetype": "text/x-python",
   "name": "python",
   "nbconvert_exporter": "python",
   "pygments_lexer": "ipython3",
   "version": "3.12.2"
  }
 },
 "nbformat": 4,
 "nbformat_minor": 2
}
